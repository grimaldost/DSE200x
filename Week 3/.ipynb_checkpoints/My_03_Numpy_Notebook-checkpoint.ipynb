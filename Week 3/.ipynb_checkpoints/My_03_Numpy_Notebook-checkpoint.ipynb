{
 "cells": [
  {
   "cell_type": "code",
   "execution_count": 1,
   "metadata": {},
   "outputs": [
    {
     "name": "stdout",
     "output_type": "stream",
     "text": [
      "<class 'numpy.ndarray'>\n"
     ]
    }
   ],
   "source": [
    "import numpy as np\n",
    "array = np.array([3,33,333])\n",
    "print(type(array))"
   ]
  },
  {
   "cell_type": "code",
   "execution_count": 2,
   "metadata": {},
   "outputs": [
    {
     "name": "stdout",
     "output_type": "stream",
     "text": [
      "(3,)\n"
     ]
    }
   ],
   "source": [
    "print(array.shape)"
   ]
  },
  {
   "cell_type": "code",
   "execution_count": 5,
   "metadata": {},
   "outputs": [
    {
     "name": "stdout",
     "output_type": "stream",
     "text": [
      "3 33 888\n"
     ]
    }
   ],
   "source": [
    "print(array[0], array[1], array[2])"
   ]
  },
  {
   "cell_type": "code",
   "execution_count": 4,
   "metadata": {},
   "outputs": [],
   "source": [
    "array[2] = 888"
   ]
  },
  {
   "cell_type": "code",
   "execution_count": 6,
   "metadata": {},
   "outputs": [
    {
     "name": "stdout",
     "output_type": "stream",
     "text": [
      "[  3  33 888]\n"
     ]
    }
   ],
   "source": [
    "print(array)"
   ]
  },
  {
   "cell_type": "code",
   "execution_count": 8,
   "metadata": {},
   "outputs": [
    {
     "name": "stdout",
     "output_type": "stream",
     "text": [
      "[[1 2 3]\n",
      " [4 5 6]]\n"
     ]
    }
   ],
   "source": [
    "array2 = np.array([[1,2,3],[4,5,6]])\n",
    "print(array2)"
   ]
  },
  {
   "cell_type": "code",
   "execution_count": 10,
   "metadata": {},
   "outputs": [
    {
     "name": "stdout",
     "output_type": "stream",
     "text": [
      "(2, 3)\n"
     ]
    }
   ],
   "source": [
    "print(array2.shape)"
   ]
  },
  {
   "cell_type": "code",
   "execution_count": 15,
   "metadata": {},
   "outputs": [
    {
     "name": "stdout",
     "output_type": "stream",
     "text": [
      "[[ 0.  0.  0.]\n",
      " [ 0.  0.  0.]\n",
      " [ 0.  0.  0.]]\n"
     ]
    }
   ],
   "source": [
    "ex1 = np.zeros((3,3))\n",
    "print(ex1)"
   ]
  },
  {
   "cell_type": "code",
   "execution_count": 21,
   "metadata": {},
   "outputs": [
    {
     "name": "stdout",
     "output_type": "stream",
     "text": [
      "[[ 5.  5.  5.]\n",
      " [ 5.  5.  5.]\n",
      " [ 5.  5.  5.]\n",
      " [ 5.  5.  5.]]\n"
     ]
    }
   ],
   "source": [
    "ex3 = np.full((4,3), 5.0)\n",
    "print(ex3)"
   ]
  },
  {
   "cell_type": "code",
   "execution_count": 24,
   "metadata": {},
   "outputs": [
    {
     "name": "stdout",
     "output_type": "stream",
     "text": [
      "[1 1 1 1]\n"
     ]
    }
   ],
   "source": [
    "ex4 = np.ones_like((1,5,3,3))\n",
    "print(ex4)"
   ]
  },
  {
   "cell_type": "code",
   "execution_count": 27,
   "metadata": {},
   "outputs": [
    {
     "name": "stdout",
     "output_type": "stream",
     "text": [
      "[[ 0.06238379  0.07052731]\n",
      " [ 0.50385685  0.53407209]]\n"
     ]
    }
   ],
   "source": [
    "ex5 = np.random.random((2,2))\n",
    "print(ex5)"
   ]
  },
  {
   "cell_type": "code",
   "execution_count": 49,
   "metadata": {},
   "outputs": [
    {
     "name": "stdout",
     "output_type": "stream",
     "text": [
      "[[[ 7.  7.  7.]\n",
      "  [ 7.  7.  7.]\n",
      "  [ 7.  7.  7.]]\n",
      "\n",
      " [[ 2.  2.  2.]\n",
      "  [ 2.  2.  2.]\n",
      "  [ 2.  2.  2.]]\n",
      "\n",
      " [[ 7.  7.  7.]\n",
      "  [ 7.  7.  7.]\n",
      "  [ 7.  7.  7.]]]\n"
     ]
    }
   ],
   "source": [
    "#ex6 = np.ones((3,3,3))\n",
    "print(ex6)"
   ]
  },
  {
   "cell_type": "code",
   "execution_count": 35,
   "metadata": {},
   "outputs": [
    {
     "data": {
      "text/plain": [
       "1.0"
      ]
     },
     "execution_count": 35,
     "metadata": {},
     "output_type": "execute_result"
    }
   ],
   "source": [
    "ex6[1,1,1]"
   ]
  },
  {
   "cell_type": "code",
   "execution_count": 69,
   "metadata": {},
   "outputs": [
    {
     "name": "stdout",
     "output_type": "stream",
     "text": [
      "[[[ 5.  5.  5.]\n",
      "  [ 5.  5.  5.]\n",
      "  [ 5.  5.  5.]]\n",
      "\n",
      " [[ 5.  5.  5.]\n",
      "  [ 5.  5.  5.]\n",
      "  [ 5.  5.  5.]]\n",
      "\n",
      " [[ 5.  5.  5.]\n",
      "  [ 5.  5.  5.]\n",
      "  [ 5.  5.  5.]]]\n"
     ]
    }
   ],
   "source": [
    "ex6[:,:,:] = 5\n",
    "print(ex6)"
   ]
  },
  {
   "cell_type": "code",
   "execution_count": 70,
   "metadata": {},
   "outputs": [
    {
     "name": "stdout",
     "output_type": "stream",
     "text": [
      "[[ 5.  5.  5.]\n",
      " [ 5.  5.  5.]\n",
      " [ 5.  5.  5.]]\n"
     ]
    }
   ],
   "source": [
    "#slice = ex6[1,:,:]\n",
    "print(slice)"
   ]
  },
  {
   "cell_type": "code",
   "execution_count": 61,
   "metadata": {},
   "outputs": [
    {
     "name": "stdout",
     "output_type": "stream",
     "text": [
      "[[ 2.  2.  2.]\n",
      " [ 2.  2.  2.]\n",
      " [ 2.  2.  2.]]\n"
     ]
    }
   ],
   "source": [
    "slice[:] = 2\n",
    "print(slice)"
   ]
  },
  {
   "cell_type": "code",
   "execution_count": 81,
   "metadata": {},
   "outputs": [
    {
     "name": "stdout",
     "output_type": "stream",
     "text": [
      "[[ 0  1  2  3]\n",
      " [10 11 12 13]\n",
      " [20 21 22 23]\n",
      " [30 31 32 33]]\n"
     ]
    }
   ],
   "source": [
    "ex_array = np.array([[0, 1, 2, 3],\n",
    "             [10,11,12,13],\n",
    "             [20,21,22,23],\n",
    "             [30,31,32,33]])\n",
    "print(ex_array)"
   ]
  },
  {
   "cell_type": "code",
   "execution_count": 71,
   "metadata": {},
   "outputs": [
    {
     "name": "stdout",
     "output_type": "stream",
     "text": [
      "col_indices:  [0 1 2 0]\n",
      "row_indices:  [0 1 2 3]\n"
     ]
    }
   ],
   "source": [
    "col_indices = np.array([0,1,2,0])\n",
    "print(\"col_indices: \", col_indices)\n",
    "row_indices = np.arange(4)\n",
    "print(\"row_indices: \", row_indices)"
   ]
  },
  {
   "cell_type": "code",
   "execution_count": 74,
   "metadata": {},
   "outputs": [
    {
     "name": "stdout",
     "output_type": "stream",
     "text": [
      "0 , 0\n",
      "1 , 1\n",
      "2 , 2\n",
      "0 , 3\n"
     ]
    }
   ],
   "source": [
    "for i,j in zip(col_indices,row_indices):\n",
    "    print(i,\",\",j)"
   ]
  },
  {
   "cell_type": "code",
   "execution_count": 83,
   "metadata": {},
   "outputs": [
    {
     "name": "stdout",
     "output_type": "stream",
     "text": [
      "[ 0 11 22  3]\n"
     ]
    }
   ],
   "source": [
    "print(ex_array[col_indices,row_indices])"
   ]
  },
  {
   "cell_type": "code",
   "execution_count": 85,
   "metadata": {},
   "outputs": [
    {
     "data": {
      "text/plain": [
       "array([[ 0,  1,  2,  3],\n",
       "       [10, 11, 12, 13]])"
      ]
     },
     "execution_count": 85,
     "metadata": {},
     "output_type": "execute_result"
    }
   ],
   "source": [
    "ex_array[:2,]"
   ]
  },
  {
   "cell_type": "code",
   "execution_count": 88,
   "metadata": {},
   "outputs": [
    {
     "name": "stdout",
     "output_type": "stream",
     "text": [
      "[[ 0  1]\n",
      " [10 11]\n",
      " [20 21]]\n"
     ]
    }
   ],
   "source": [
    "ex2_array = np.array(ex_array[:3,:2])\n",
    "print(ex2_array)"
   ]
  },
  {
   "cell_type": "code",
   "execution_count": 90,
   "metadata": {},
   "outputs": [
    {
     "name": "stdout",
     "output_type": "stream",
     "text": [
      "[[ True  True]\n",
      " [ True  True]\n",
      " [False False]]\n"
     ]
    }
   ],
   "source": [
    "filter = (ex2_array < 15)\n",
    "print(filter)"
   ]
  },
  {
   "cell_type": "code",
   "execution_count": 91,
   "metadata": {},
   "outputs": [
    {
     "data": {
      "text/plain": [
       "array([ 0,  1, 10, 11])"
      ]
     },
     "execution_count": 91,
     "metadata": {},
     "output_type": "execute_result"
    }
   ],
   "source": [
    "ex2_array[filter]"
   ]
  },
  {
   "cell_type": "code",
   "execution_count": 92,
   "metadata": {},
   "outputs": [
    {
     "data": {
      "text/plain": [
       "array([ 0,  1, 10, 11])"
      ]
     },
     "execution_count": 92,
     "metadata": {},
     "output_type": "execute_result"
    }
   ],
   "source": [
    "ex2_array[ex2_array < 15]"
   ]
  },
  {
   "cell_type": "code",
   "execution_count": null,
   "metadata": {},
   "outputs": [],
   "source": [
    "ex2_array[(ex2_array < 15) & (ex2_array > 9)]"
   ]
  },
  {
   "cell_type": "code",
   "execution_count": 98,
   "metadata": {},
   "outputs": [
    {
     "data": {
      "text/plain": [
       "dtype('float64')"
      ]
     },
     "execution_count": 98,
     "metadata": {},
     "output_type": "execute_result"
    }
   ],
   "source": [
    "ex1.dtype"
   ]
  },
  {
   "cell_type": "code",
   "execution_count": 99,
   "metadata": {},
   "outputs": [
    {
     "name": "stdout",
     "output_type": "stream",
     "text": [
      "[12 43  2 34]\n"
     ]
    }
   ],
   "source": [
    "ex2 = np.array([12.4,43.3,2,34], dtype=np.int)\n",
    "print(ex2)"
   ]
  },
  {
   "cell_type": "code",
   "execution_count": null,
   "metadata": {},
   "outputs": [],
   "source": []
  },
  {
   "cell_type": "code",
   "execution_count": null,
   "metadata": {},
   "outputs": [],
   "source": []
  },
  {
   "cell_type": "code",
   "execution_count": 101,
   "metadata": {},
   "outputs": [
    {
     "name": "stdout",
     "output_type": "stream",
     "text": [
      "[[  7.90609144   9.75863404   7.39333202  11.31206885  10.72762571]\n",
      " [ 10.57706082  11.31511123   9.81490171  10.4638275   10.78452525]]\n"
     ]
    }
   ],
   "source": [
    "arr = 10 + np.random.randn(2,5)\n",
    "print(arr)"
   ]
  },
  {
   "cell_type": "code",
   "execution_count": 103,
   "metadata": {},
   "outputs": [
    {
     "name": "stdout",
     "output_type": "stream",
     "text": [
      "10.0053178565\n"
     ]
    }
   ],
   "source": [
    "print(arr.mean())"
   ]
  },
  {
   "cell_type": "code",
   "execution_count": 104,
   "metadata": {},
   "outputs": [
    {
     "name": "stdout",
     "output_type": "stream",
     "text": [
      "[  9.24157613  10.53687263   8.60411686  10.88794817  10.75607548]\n"
     ]
    }
   ],
   "source": [
    "print(arr.mean(0))"
   ]
  },
  {
   "cell_type": "code",
   "execution_count": 105,
   "metadata": {},
   "outputs": [
    {
     "name": "stdout",
     "output_type": "stream",
     "text": [
      "[  9.41955041  10.5910853 ]\n"
     ]
    }
   ],
   "source": [
    "print(arr.mean(1))"
   ]
  },
  {
   "cell_type": "code",
   "execution_count": 106,
   "metadata": {},
   "outputs": [
    {
     "name": "stdout",
     "output_type": "stream",
     "text": [
      "100.053178565\n"
     ]
    }
   ],
   "source": [
    "print(arr.sum())"
   ]
  },
  {
   "cell_type": "code",
   "execution_count": 108,
   "metadata": {},
   "outputs": [
    {
     "name": "stdout",
     "output_type": "stream",
     "text": [
      "[  9.75863404  10.57706082]\n"
     ]
    }
   ],
   "source": [
    "print(np.median(arr, axis=1))"
   ]
  },
  {
   "cell_type": "code",
   "execution_count": null,
   "metadata": {},
   "outputs": [],
   "source": []
  },
  {
   "cell_type": "code",
   "execution_count": null,
   "metadata": {},
   "outputs": [],
   "source": []
  },
  {
   "cell_type": "code",
   "execution_count": 109,
   "metadata": {},
   "outputs": [
    {
     "name": "stdout",
     "output_type": "stream",
     "text": [
      "[ 0.32783359 -0.54169413  0.16023738  0.09697609 -0.77173661 -0.9621704\n",
      "  1.45010523 -1.04076668  0.58711747  0.2489187 ]\n"
     ]
    }
   ],
   "source": [
    "unsorted = np.random.randn(10)\n",
    "print(unsorted)"
   ]
  },
  {
   "cell_type": "code",
   "execution_count": 111,
   "metadata": {},
   "outputs": [
    {
     "name": "stdout",
     "output_type": "stream",
     "text": [
      "[-1.04076668 -0.9621704  -0.77173661 -0.54169413  0.09697609  0.16023738\n",
      "  0.2489187   0.32783359  0.58711747  1.45010523]\n"
     ]
    }
   ],
   "source": [
    "sorted = np.array(unsorted)\n",
    "sorted.sort()\n",
    "print(sorted)"
   ]
  },
  {
   "cell_type": "code",
   "execution_count": null,
   "metadata": {},
   "outputs": [],
   "source": []
  },
  {
   "cell_type": "code",
   "execution_count": null,
   "metadata": {},
   "outputs": [],
   "source": []
  },
  {
   "cell_type": "code",
   "execution_count": 112,
   "metadata": {},
   "outputs": [
    {
     "name": "stdout",
     "output_type": "stream",
     "text": [
      "['desk' 'chair' 'bulb'] ['lamp' 'bulb' 'chair']\n"
     ]
    }
   ],
   "source": [
    "s1 = np.array(['desk','chair','bulb'])\n",
    "s2 = np.array(['lamp','bulb','chair'])\n",
    "\n",
    "print(s1,s2)"
   ]
  },
  {
   "cell_type": "code",
   "execution_count": 113,
   "metadata": {},
   "outputs": [
    {
     "name": "stdout",
     "output_type": "stream",
     "text": [
      "['bulb' 'chair' 'desk' 'lamp']\n"
     ]
    }
   ],
   "source": [
    "print(np.union1d(s1,s2))"
   ]
  },
  {
   "cell_type": "code",
   "execution_count": 114,
   "metadata": {},
   "outputs": [
    {
     "name": "stdout",
     "output_type": "stream",
     "text": [
      "['desk']\n"
     ]
    }
   ],
   "source": [
    "print(np.setdiff1d(s1,s2))"
   ]
  },
  {
   "cell_type": "code",
   "execution_count": 116,
   "metadata": {},
   "outputs": [
    {
     "name": "stdout",
     "output_type": "stream",
     "text": [
      "['lamp']\n"
     ]
    }
   ],
   "source": [
    "print(np.setdiff1d(s2,s1))"
   ]
  },
  {
   "cell_type": "code",
   "execution_count": 117,
   "metadata": {},
   "outputs": [
    {
     "name": "stdout",
     "output_type": "stream",
     "text": [
      "[False  True  True]\n"
     ]
    }
   ],
   "source": [
    "print(np.in1d(s1,s2))"
   ]
  },
  {
   "cell_type": "code",
   "execution_count": null,
   "metadata": {},
   "outputs": [],
   "source": []
  },
  {
   "cell_type": "code",
   "execution_count": null,
   "metadata": {},
   "outputs": [],
   "source": []
  },
  {
   "cell_type": "code",
   "execution_count": 119,
   "metadata": {},
   "outputs": [
    {
     "name": "stdout",
     "output_type": "stream",
     "text": [
      "[[ 0.  0.  0.]\n",
      " [ 0.  0.  0.]\n",
      " [ 0.  0.  0.]\n",
      " [ 0.  0.  0.]]\n"
     ]
    }
   ],
   "source": [
    "start = np.zeros([4,3])\n",
    "print(start)"
   ]
  },
  {
   "cell_type": "code",
   "execution_count": 120,
   "metadata": {},
   "outputs": [
    {
     "name": "stdout",
     "output_type": "stream",
     "text": [
      "[1 2 3]\n"
     ]
    }
   ],
   "source": [
    "add_rows = np.array([1,2,3])\n",
    "print(add_rows)"
   ]
  },
  {
   "cell_type": "code",
   "execution_count": 121,
   "metadata": {},
   "outputs": [
    {
     "name": "stdout",
     "output_type": "stream",
     "text": [
      "[[ 1.  2.  3.]\n",
      " [ 1.  2.  3.]\n",
      " [ 1.  2.  3.]\n",
      " [ 1.  2.  3.]]\n"
     ]
    }
   ],
   "source": [
    "y = start+add_rows\n",
    "print(y)"
   ]
  },
  {
   "cell_type": "code",
   "execution_count": 123,
   "metadata": {},
   "outputs": [
    {
     "name": "stdout",
     "output_type": "stream",
     "text": [
      "[[1]\n",
      " [2]\n",
      " [3]\n",
      " [4]]\n"
     ]
    }
   ],
   "source": [
    "add_col = np.array([[1,2,3,4]])\n",
    "add_col = add_col.T\n",
    "print(add_col)"
   ]
  },
  {
   "cell_type": "code",
   "execution_count": 124,
   "metadata": {},
   "outputs": [
    {
     "name": "stdout",
     "output_type": "stream",
     "text": [
      "[[ 1.  1.  1.]\n",
      " [ 2.  2.  2.]\n",
      " [ 3.  3.  3.]\n",
      " [ 4.  4.  4.]]\n"
     ]
    }
   ],
   "source": [
    "x = start + add_col\n",
    "print(x)"
   ]
  },
  {
   "cell_type": "code",
   "execution_count": 125,
   "metadata": {},
   "outputs": [
    {
     "name": "stdout",
     "output_type": "stream",
     "text": [
      "[[ 1.  1.  1.]\n",
      " [ 1.  1.  1.]\n",
      " [ 1.  1.  1.]\n",
      " [ 1.  1.  1.]]\n"
     ]
    }
   ],
   "source": [
    "add_scalar = np.array([1])\n",
    "print(start + add_scalar)"
   ]
  },
  {
   "cell_type": "code",
   "execution_count": 133,
   "metadata": {},
   "outputs": [
    {
     "name": "stdout",
     "output_type": "stream",
     "text": [
      "1000000\n",
      "1000\n"
     ]
    }
   ],
   "source": [
    "from timeit import Timer\n",
    "\n",
    "size = int(1e6)\n",
    "timeits = int(1e3)\n",
    "\n",
    "print(size)\n",
    "print(timeits)"
   ]
  },
  {
   "cell_type": "code",
   "execution_count": 129,
   "metadata": {},
   "outputs": [
    {
     "name": "stdout",
     "output_type": "stream",
     "text": [
      "<class 'numpy.ndarray'>\n"
     ]
    }
   ],
   "source": [
    "nd_array = np.arange(size)\n",
    "\n",
    "print(type(nd_array))"
   ]
  },
  {
   "cell_type": "code",
   "execution_count": 134,
   "metadata": {},
   "outputs": [
    {
     "name": "stdout",
     "output_type": "stream",
     "text": [
      "0.005362167109347499\n"
     ]
    }
   ],
   "source": [
    "timer_np = Timer(\"nd_array.sum()\",\"from __main__ import nd_array\")\n",
    "print(timer_np.timeit(timeits)/timeits)"
   ]
  },
  {
   "cell_type": "code",
   "execution_count": 135,
   "metadata": {},
   "outputs": [
    {
     "name": "stdout",
     "output_type": "stream",
     "text": [
      "<class 'list'>\n"
     ]
    }
   ],
   "source": [
    "a_list = list(range(size))\n",
    "\n",
    "print(type(a_list))"
   ]
  },
  {
   "cell_type": "code",
   "execution_count": 136,
   "metadata": {},
   "outputs": [
    {
     "name": "stdout",
     "output_type": "stream",
     "text": [
      "0.1425399142372556\n"
     ]
    }
   ],
   "source": [
    "timer_list = Timer(\"sum(a_list)\", \"from __main__ import a_list\")\n",
    "print(timer_list.timeit(timeits)/timeits)"
   ]
  },
  {
   "cell_type": "code",
   "execution_count": null,
   "metadata": {},
   "outputs": [],
   "source": []
  }
 ],
 "metadata": {
  "kernelspec": {
   "display_name": "Python 3",
   "language": "python",
   "name": "python3"
  },
  "language_info": {
   "codemirror_mode": {
    "name": "ipython",
    "version": 3
   },
   "file_extension": ".py",
   "mimetype": "text/x-python",
   "name": "python",
   "nbconvert_exporter": "python",
   "pygments_lexer": "ipython3",
   "version": "3.6.3"
  }
 },
 "nbformat": 4,
 "nbformat_minor": 2
}
